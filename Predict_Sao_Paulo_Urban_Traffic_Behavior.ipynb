{
 "cells": [
  {
   "cell_type": "code",
   "execution_count": 1,
   "metadata": {},
   "outputs": [
    {
     "data": {
      "text/html": [
       "<div>\n",
       "<style scoped>\n",
       "    .dataframe tbody tr th:only-of-type {\n",
       "        vertical-align: middle;\n",
       "    }\n",
       "\n",
       "    .dataframe tbody tr th {\n",
       "        vertical-align: top;\n",
       "    }\n",
       "\n",
       "    .dataframe thead th {\n",
       "        text-align: right;\n",
       "    }\n",
       "</style>\n",
       "<table border=\"1\" class=\"dataframe\">\n",
       "  <thead>\n",
       "    <tr style=\"text-align: right;\">\n",
       "      <th></th>\n",
       "      <th>Hour</th>\n",
       "      <th>Immobilized_Bus</th>\n",
       "      <th>Broken_Truck</th>\n",
       "      <th>Vehicle_Excess</th>\n",
       "      <th>Accident_Victim</th>\n",
       "      <th>Running_Over</th>\n",
       "      <th>Fire_Vehicles</th>\n",
       "      <th>Freight_Occurrence</th>\n",
       "      <th>Dangerous_Freight</th>\n",
       "      <th>Electricity_Short</th>\n",
       "      <th>Fire</th>\n",
       "      <th>Flooding</th>\n",
       "      <th>Manifestations</th>\n",
       "      <th>Trolleybuses_Defect</th>\n",
       "      <th>Tree</th>\n",
       "      <th>Semaphore_off</th>\n",
       "      <th>Intermittent_Semaphore</th>\n",
       "      <th>Slowness</th>\n",
       "    </tr>\n",
       "  </thead>\n",
       "  <tbody>\n",
       "    <tr>\n",
       "      <th>0</th>\n",
       "      <td>1</td>\n",
       "      <td>0</td>\n",
       "      <td>0</td>\n",
       "      <td>0</td>\n",
       "      <td>0</td>\n",
       "      <td>0</td>\n",
       "      <td>0</td>\n",
       "      <td>0</td>\n",
       "      <td>0</td>\n",
       "      <td>0</td>\n",
       "      <td>0</td>\n",
       "      <td>0</td>\n",
       "      <td>0</td>\n",
       "      <td>0</td>\n",
       "      <td>0</td>\n",
       "      <td>0</td>\n",
       "      <td>0</td>\n",
       "      <td>4.1</td>\n",
       "    </tr>\n",
       "    <tr>\n",
       "      <th>1</th>\n",
       "      <td>2</td>\n",
       "      <td>0</td>\n",
       "      <td>0</td>\n",
       "      <td>0</td>\n",
       "      <td>0</td>\n",
       "      <td>0</td>\n",
       "      <td>0</td>\n",
       "      <td>0</td>\n",
       "      <td>0</td>\n",
       "      <td>0</td>\n",
       "      <td>0</td>\n",
       "      <td>0</td>\n",
       "      <td>0</td>\n",
       "      <td>0</td>\n",
       "      <td>0</td>\n",
       "      <td>0</td>\n",
       "      <td>0</td>\n",
       "      <td>6.6</td>\n",
       "    </tr>\n",
       "    <tr>\n",
       "      <th>2</th>\n",
       "      <td>3</td>\n",
       "      <td>0</td>\n",
       "      <td>0</td>\n",
       "      <td>0</td>\n",
       "      <td>0</td>\n",
       "      <td>0</td>\n",
       "      <td>0</td>\n",
       "      <td>0</td>\n",
       "      <td>0</td>\n",
       "      <td>0</td>\n",
       "      <td>0</td>\n",
       "      <td>0</td>\n",
       "      <td>0</td>\n",
       "      <td>0</td>\n",
       "      <td>0</td>\n",
       "      <td>0</td>\n",
       "      <td>0</td>\n",
       "      <td>8.7</td>\n",
       "    </tr>\n",
       "    <tr>\n",
       "      <th>3</th>\n",
       "      <td>4</td>\n",
       "      <td>0</td>\n",
       "      <td>0</td>\n",
       "      <td>0</td>\n",
       "      <td>0</td>\n",
       "      <td>0</td>\n",
       "      <td>0</td>\n",
       "      <td>0</td>\n",
       "      <td>0</td>\n",
       "      <td>0</td>\n",
       "      <td>0</td>\n",
       "      <td>0</td>\n",
       "      <td>0</td>\n",
       "      <td>0</td>\n",
       "      <td>0</td>\n",
       "      <td>0</td>\n",
       "      <td>0</td>\n",
       "      <td>9.2</td>\n",
       "    </tr>\n",
       "    <tr>\n",
       "      <th>4</th>\n",
       "      <td>5</td>\n",
       "      <td>0</td>\n",
       "      <td>0</td>\n",
       "      <td>0</td>\n",
       "      <td>0</td>\n",
       "      <td>0</td>\n",
       "      <td>0</td>\n",
       "      <td>0</td>\n",
       "      <td>0</td>\n",
       "      <td>0</td>\n",
       "      <td>0</td>\n",
       "      <td>0</td>\n",
       "      <td>0</td>\n",
       "      <td>0</td>\n",
       "      <td>0</td>\n",
       "      <td>0</td>\n",
       "      <td>0</td>\n",
       "      <td>11.1</td>\n",
       "    </tr>\n",
       "  </tbody>\n",
       "</table>\n",
       "</div>"
      ],
      "text/plain": [
       "   Hour  Immobilized_Bus  Broken_Truck  Vehicle_Excess  Accident_Victim  \\\n",
       "0     1                0             0               0                0   \n",
       "1     2                0             0               0                0   \n",
       "2     3                0             0               0                0   \n",
       "3     4                0             0               0                0   \n",
       "4     5                0             0               0                0   \n",
       "\n",
       "   Running_Over  Fire_Vehicles  Freight_Occurrence  Dangerous_Freight  \\\n",
       "0             0              0                   0                  0   \n",
       "1             0              0                   0                  0   \n",
       "2             0              0                   0                  0   \n",
       "3             0              0                   0                  0   \n",
       "4             0              0                   0                  0   \n",
       "\n",
       "   Electricity_Short  Fire  Flooding  Manifestations  Trolleybuses_Defect  \\\n",
       "0                  0     0         0               0                    0   \n",
       "1                  0     0         0               0                    0   \n",
       "2                  0     0         0               0                    0   \n",
       "3                  0     0         0               0                    0   \n",
       "4                  0     0         0               0                    0   \n",
       "\n",
       "   Tree  Semaphore_off  Intermittent_Semaphore  Slowness  \n",
       "0     0              0                       0       4.1  \n",
       "1     0              0                       0       6.6  \n",
       "2     0              0                       0       8.7  \n",
       "3     0              0                       0       9.2  \n",
       "4     0              0                       0      11.1  "
      ]
     },
     "execution_count": 1,
     "metadata": {},
     "output_type": "execute_result"
    }
   ],
   "source": [
    "import pandas as pd\n",
    "sf = pd.read_csv('Urban_Traffic_Behavior.csv')\n",
    "sf.head()"
   ]
  },
  {
   "cell_type": "code",
   "execution_count": 2,
   "metadata": {},
   "outputs": [
    {
     "name": "stdout",
     "output_type": "stream",
     "text": [
      "<class 'pandas.core.frame.DataFrame'>\n",
      "RangeIndex: 135 entries, 0 to 134\n",
      "Data columns (total 18 columns):\n",
      "Hour                      135 non-null int64\n",
      "Immobilized_Bus           135 non-null int64\n",
      "Broken_Truck              135 non-null int64\n",
      "Vehicle_Excess            135 non-null int64\n",
      "Accident_Victim           135 non-null int64\n",
      "Running_Over              135 non-null int64\n",
      "Fire_Vehicles             135 non-null int64\n",
      "Freight_Occurrence        135 non-null int64\n",
      "Dangerous_Freight         135 non-null int64\n",
      "Electricity_Short         135 non-null int64\n",
      "Fire                      135 non-null int64\n",
      "Flooding                  135 non-null int64\n",
      "Manifestations            135 non-null int64\n",
      "Trolleybuses_Defect       135 non-null int64\n",
      "Tree                      135 non-null int64\n",
      "Semaphore_off             135 non-null int64\n",
      "Intermittent_Semaphore    135 non-null int64\n",
      "Slowness                  135 non-null float64\n",
      "dtypes: float64(1), int64(17)\n",
      "memory usage: 19.1 KB\n"
     ]
    }
   ],
   "source": [
    "sf.info()"
   ]
  },
  {
   "cell_type": "code",
   "execution_count": 3,
   "metadata": {},
   "outputs": [
    {
     "data": {
      "text/html": [
       "<div>\n",
       "<style scoped>\n",
       "    .dataframe tbody tr th:only-of-type {\n",
       "        vertical-align: middle;\n",
       "    }\n",
       "\n",
       "    .dataframe tbody tr th {\n",
       "        vertical-align: top;\n",
       "    }\n",
       "\n",
       "    .dataframe thead th {\n",
       "        text-align: right;\n",
       "    }\n",
       "</style>\n",
       "<table border=\"1\" class=\"dataframe\">\n",
       "  <thead>\n",
       "    <tr style=\"text-align: right;\">\n",
       "      <th></th>\n",
       "      <th>Hour</th>\n",
       "      <th>Immobilized_Bus</th>\n",
       "      <th>Broken_Truck</th>\n",
       "      <th>Vehicle_Excess</th>\n",
       "      <th>Accident_Victim</th>\n",
       "      <th>Running_Over</th>\n",
       "      <th>Fire_Vehicles</th>\n",
       "      <th>Freight_Occurrence</th>\n",
       "      <th>Dangerous_Freight</th>\n",
       "      <th>Electricity_Short</th>\n",
       "      <th>Fire</th>\n",
       "      <th>Flooding</th>\n",
       "      <th>Manifestations</th>\n",
       "      <th>Trolleybuses_Defect</th>\n",
       "      <th>Tree</th>\n",
       "      <th>Semaphore_off</th>\n",
       "      <th>Intermittent_Semaphore</th>\n",
       "      <th>Slowness</th>\n",
       "    </tr>\n",
       "  </thead>\n",
       "  <tbody>\n",
       "    <tr>\n",
       "      <th>count</th>\n",
       "      <td>135.00000</td>\n",
       "      <td>135.000000</td>\n",
       "      <td>135.000000</td>\n",
       "      <td>135.000000</td>\n",
       "      <td>135.000000</td>\n",
       "      <td>135.000000</td>\n",
       "      <td>135.000000</td>\n",
       "      <td>135.000000</td>\n",
       "      <td>135.000000</td>\n",
       "      <td>135.000000</td>\n",
       "      <td>135.000000</td>\n",
       "      <td>135.000000</td>\n",
       "      <td>135.000000</td>\n",
       "      <td>135.000000</td>\n",
       "      <td>135.000000</td>\n",
       "      <td>135.000000</td>\n",
       "      <td>135.000000</td>\n",
       "      <td>135.000000</td>\n",
       "    </tr>\n",
       "    <tr>\n",
       "      <th>mean</th>\n",
       "      <td>14.00000</td>\n",
       "      <td>0.340741</td>\n",
       "      <td>0.874074</td>\n",
       "      <td>0.029630</td>\n",
       "      <td>0.422222</td>\n",
       "      <td>0.118519</td>\n",
       "      <td>0.007407</td>\n",
       "      <td>0.007407</td>\n",
       "      <td>0.007407</td>\n",
       "      <td>0.118519</td>\n",
       "      <td>0.007407</td>\n",
       "      <td>0.118519</td>\n",
       "      <td>0.051852</td>\n",
       "      <td>0.229630</td>\n",
       "      <td>0.044444</td>\n",
       "      <td>0.125926</td>\n",
       "      <td>0.014815</td>\n",
       "      <td>10.051852</td>\n",
       "    </tr>\n",
       "    <tr>\n",
       "      <th>std</th>\n",
       "      <td>7.81789</td>\n",
       "      <td>0.659749</td>\n",
       "      <td>1.102437</td>\n",
       "      <td>0.170195</td>\n",
       "      <td>0.696116</td>\n",
       "      <td>0.346665</td>\n",
       "      <td>0.086066</td>\n",
       "      <td>0.086066</td>\n",
       "      <td>0.086066</td>\n",
       "      <td>0.504485</td>\n",
       "      <td>0.086066</td>\n",
       "      <td>0.712907</td>\n",
       "      <td>0.222554</td>\n",
       "      <td>0.818998</td>\n",
       "      <td>0.206848</td>\n",
       "      <td>0.464077</td>\n",
       "      <td>0.121261</td>\n",
       "      <td>4.363243</td>\n",
       "    </tr>\n",
       "    <tr>\n",
       "      <th>min</th>\n",
       "      <td>1.00000</td>\n",
       "      <td>0.000000</td>\n",
       "      <td>0.000000</td>\n",
       "      <td>0.000000</td>\n",
       "      <td>0.000000</td>\n",
       "      <td>0.000000</td>\n",
       "      <td>0.000000</td>\n",
       "      <td>0.000000</td>\n",
       "      <td>0.000000</td>\n",
       "      <td>0.000000</td>\n",
       "      <td>0.000000</td>\n",
       "      <td>0.000000</td>\n",
       "      <td>0.000000</td>\n",
       "      <td>0.000000</td>\n",
       "      <td>0.000000</td>\n",
       "      <td>0.000000</td>\n",
       "      <td>0.000000</td>\n",
       "      <td>3.400000</td>\n",
       "    </tr>\n",
       "    <tr>\n",
       "      <th>25%</th>\n",
       "      <td>7.00000</td>\n",
       "      <td>0.000000</td>\n",
       "      <td>0.000000</td>\n",
       "      <td>0.000000</td>\n",
       "      <td>0.000000</td>\n",
       "      <td>0.000000</td>\n",
       "      <td>0.000000</td>\n",
       "      <td>0.000000</td>\n",
       "      <td>0.000000</td>\n",
       "      <td>0.000000</td>\n",
       "      <td>0.000000</td>\n",
       "      <td>0.000000</td>\n",
       "      <td>0.000000</td>\n",
       "      <td>0.000000</td>\n",
       "      <td>0.000000</td>\n",
       "      <td>0.000000</td>\n",
       "      <td>0.000000</td>\n",
       "      <td>7.400000</td>\n",
       "    </tr>\n",
       "    <tr>\n",
       "      <th>50%</th>\n",
       "      <td>14.00000</td>\n",
       "      <td>0.000000</td>\n",
       "      <td>1.000000</td>\n",
       "      <td>0.000000</td>\n",
       "      <td>0.000000</td>\n",
       "      <td>0.000000</td>\n",
       "      <td>0.000000</td>\n",
       "      <td>0.000000</td>\n",
       "      <td>0.000000</td>\n",
       "      <td>0.000000</td>\n",
       "      <td>0.000000</td>\n",
       "      <td>0.000000</td>\n",
       "      <td>0.000000</td>\n",
       "      <td>0.000000</td>\n",
       "      <td>0.000000</td>\n",
       "      <td>0.000000</td>\n",
       "      <td>0.000000</td>\n",
       "      <td>9.000000</td>\n",
       "    </tr>\n",
       "    <tr>\n",
       "      <th>75%</th>\n",
       "      <td>21.00000</td>\n",
       "      <td>1.000000</td>\n",
       "      <td>1.000000</td>\n",
       "      <td>0.000000</td>\n",
       "      <td>1.000000</td>\n",
       "      <td>0.000000</td>\n",
       "      <td>0.000000</td>\n",
       "      <td>0.000000</td>\n",
       "      <td>0.000000</td>\n",
       "      <td>0.000000</td>\n",
       "      <td>0.000000</td>\n",
       "      <td>0.000000</td>\n",
       "      <td>0.000000</td>\n",
       "      <td>0.000000</td>\n",
       "      <td>0.000000</td>\n",
       "      <td>0.000000</td>\n",
       "      <td>0.000000</td>\n",
       "      <td>11.850000</td>\n",
       "    </tr>\n",
       "    <tr>\n",
       "      <th>max</th>\n",
       "      <td>27.00000</td>\n",
       "      <td>4.000000</td>\n",
       "      <td>5.000000</td>\n",
       "      <td>1.000000</td>\n",
       "      <td>3.000000</td>\n",
       "      <td>2.000000</td>\n",
       "      <td>1.000000</td>\n",
       "      <td>1.000000</td>\n",
       "      <td>1.000000</td>\n",
       "      <td>4.000000</td>\n",
       "      <td>1.000000</td>\n",
       "      <td>7.000000</td>\n",
       "      <td>1.000000</td>\n",
       "      <td>8.000000</td>\n",
       "      <td>1.000000</td>\n",
       "      <td>4.000000</td>\n",
       "      <td>1.000000</td>\n",
       "      <td>23.400000</td>\n",
       "    </tr>\n",
       "  </tbody>\n",
       "</table>\n",
       "</div>"
      ],
      "text/plain": [
       "            Hour  Immobilized_Bus  Broken_Truck  Vehicle_Excess  \\\n",
       "count  135.00000       135.000000    135.000000      135.000000   \n",
       "mean    14.00000         0.340741      0.874074        0.029630   \n",
       "std      7.81789         0.659749      1.102437        0.170195   \n",
       "min      1.00000         0.000000      0.000000        0.000000   \n",
       "25%      7.00000         0.000000      0.000000        0.000000   \n",
       "50%     14.00000         0.000000      1.000000        0.000000   \n",
       "75%     21.00000         1.000000      1.000000        0.000000   \n",
       "max     27.00000         4.000000      5.000000        1.000000   \n",
       "\n",
       "       Accident_Victim  Running_Over  Fire_Vehicles  Freight_Occurrence  \\\n",
       "count       135.000000    135.000000     135.000000          135.000000   \n",
       "mean          0.422222      0.118519       0.007407            0.007407   \n",
       "std           0.696116      0.346665       0.086066            0.086066   \n",
       "min           0.000000      0.000000       0.000000            0.000000   \n",
       "25%           0.000000      0.000000       0.000000            0.000000   \n",
       "50%           0.000000      0.000000       0.000000            0.000000   \n",
       "75%           1.000000      0.000000       0.000000            0.000000   \n",
       "max           3.000000      2.000000       1.000000            1.000000   \n",
       "\n",
       "       Dangerous_Freight  Electricity_Short        Fire    Flooding  \\\n",
       "count         135.000000         135.000000  135.000000  135.000000   \n",
       "mean            0.007407           0.118519    0.007407    0.118519   \n",
       "std             0.086066           0.504485    0.086066    0.712907   \n",
       "min             0.000000           0.000000    0.000000    0.000000   \n",
       "25%             0.000000           0.000000    0.000000    0.000000   \n",
       "50%             0.000000           0.000000    0.000000    0.000000   \n",
       "75%             0.000000           0.000000    0.000000    0.000000   \n",
       "max             1.000000           4.000000    1.000000    7.000000   \n",
       "\n",
       "       Manifestations  Trolleybuses_Defect        Tree  Semaphore_off  \\\n",
       "count      135.000000           135.000000  135.000000     135.000000   \n",
       "mean         0.051852             0.229630    0.044444       0.125926   \n",
       "std          0.222554             0.818998    0.206848       0.464077   \n",
       "min          0.000000             0.000000    0.000000       0.000000   \n",
       "25%          0.000000             0.000000    0.000000       0.000000   \n",
       "50%          0.000000             0.000000    0.000000       0.000000   \n",
       "75%          0.000000             0.000000    0.000000       0.000000   \n",
       "max          1.000000             8.000000    1.000000       4.000000   \n",
       "\n",
       "       Intermittent_Semaphore    Slowness  \n",
       "count              135.000000  135.000000  \n",
       "mean                 0.014815   10.051852  \n",
       "std                  0.121261    4.363243  \n",
       "min                  0.000000    3.400000  \n",
       "25%                  0.000000    7.400000  \n",
       "50%                  0.000000    9.000000  \n",
       "75%                  0.000000   11.850000  \n",
       "max                  1.000000   23.400000  "
      ]
     },
     "execution_count": 3,
     "metadata": {},
     "output_type": "execute_result"
    }
   ],
   "source": [
    "sf.describe()"
   ]
  },
  {
   "cell_type": "code",
   "execution_count": 4,
   "metadata": {},
   "outputs": [
    {
     "data": {
      "image/png": "[encoded data removed]",
      "text/plain": [
       "<Figure size 1440x1080 with 20 Axes>"
      ]
     },
     "metadata": {
      "needs_background": "light"
     },
     "output_type": "display_data"
    }
   ],
   "source": [
    "%matplotlib inline\n",
    "import matplotlib.pyplot as plt\n",
    "sf.hist(bins=50, figsize=(20,15))\n",
    "plt.savefig(\"attribute_histogram_plots\")\n",
    "plt.show()"
   ]
  },
  {
   "cell_type": "markdown",
   "metadata": {},
   "source": [
    "Observations: \n",
    "\n",
    "1. These variables have very different scales. We will discuss this later in this chapter when we explore feature scaling.\n",
    "\n",
    "2. Many histograms are right skewed: they extend much farther to the right of the median than to the left. This may make it a bit harder for some Machine Learning algorithms to detect patterns. We will try transforming these attributes later on to have more bell-shaped distributions."
   ]
  },
  {
   "cell_type": "code",
   "execution_count": 5,
   "metadata": {},
   "outputs": [
    {
     "data": {
      "image/png": "[encoded data removed]",
      "text/plain": [
       "<Figure size 432x288 with 1 Axes>"
      ]
     },
     "metadata": {
      "needs_background": "light"
     },
     "output_type": "display_data"
    }
   ],
   "source": [
    "sf.plot(kind=\"scatter\", x=\"Accident_Victim\", y=\"Immobilized_Bus\", alpha=0.2)\n",
    "plt.savefig('map1.png')"
   ]
  },
  {
   "cell_type": "code",
   "execution_count": 6,
   "metadata": {},
   "outputs": [
    {
     "data": {
      "image/png": "[encoded data removed]",
      "text/plain": [
       "<Figure size 720x504 with 2 Axes>"
      ]
     },
     "metadata": {
      "needs_background": "light"
     },
     "output_type": "display_data"
    }
   ],
   "source": [
    "sf.plot(kind=\"scatter\", x=\"Accident_Victim\", y=\"Immobilized_Bus\", alpha=0.4, figsize=(10,7),\n",
    "    c=\"Slowness\", cmap=plt.get_cmap(\"jet\"), colorbar=True,\n",
    "    sharex=False)\n",
    "plt.savefig('map2.png')"
   ]
  },
  {
   "cell_type": "markdown",
   "metadata": {},
   "source": [
    "Now let’s look at how much each independent variable correlates with the last sold price."
   ]
  },
  {
   "cell_type": "code",
   "execution_count": 7,
   "metadata": {},
   "outputs": [
    {
     "data": {
      "text/plain": [
       "Slowness                  1.000000\n",
       "Hour                      0.729962\n",
       "Electricity_Short         0.436569\n",
       "Flooding                  0.420016\n",
       "Semaphore_off             0.347242\n",
       "Fire_Vehicles             0.134103\n",
       "Broken_Truck              0.131998\n",
       "Accident_Victim           0.121730\n",
       "Immobilized_Bus           0.101143\n",
       "Manifestations            0.066377\n",
       "Freight_Occurrence        0.026791\n",
       "Dangerous_Freight         0.000957\n",
       "Running_Over             -0.001133\n",
       "Vehicle_Excess           -0.045297\n",
       "Fire                     -0.046737\n",
       "Tree                     -0.098489\n",
       "Intermittent_Semaphore   -0.119942\n",
       "Trolleybuses_Defect      -0.147035\n",
       "Name: Slowness, dtype: float64"
      ]
     },
     "execution_count": 7,
     "metadata": {},
     "output_type": "execute_result"
    }
   ],
   "source": [
    "corr_matrix = sf.corr()\n",
    "corr_matrix[\"Slowness\"].sort_values(ascending=False)"
   ]
  },
  {
   "cell_type": "markdown",
   "metadata": {},
   "source": [
    "The slowness in traffic (%) tends to go up when the hour and lack of electricity of bathrooms go up. You can see a small negative correlation between the dDefect in the network of trolleybuses and the slowness in traffic. Finally, coefficients close to zero mean that there is no linear correlation."
   ]
  },
  {
   "cell_type": "code",
   "execution_count": 8,
   "metadata": {},
   "outputs": [
    {
     "data": {
      "image/png": "[encoded data removed]",
      "text/plain": [
       "<Figure size 864x576 with 16 Axes>"
      ]
     },
     "metadata": {
      "needs_background": "light"
     },
     "output_type": "display_data"
    }
   ],
   "source": [
    "from pandas.plotting import scatter_matrix\n",
    "\n",
    "attributes = [\"Slowness\", \"Hour\", \"Electricity_Short\", \"Flooding\"]\n",
    "scatter_matrix(sf[attributes], figsize=(12, 8))\n",
    "plt.savefig('matrix.png')"
   ]
  },
  {
   "cell_type": "markdown",
   "metadata": {},
   "source": [
    "The most promising variable to predict the sold price is the zestimate, so let’s zoom in on their correlation scatterplot"
   ]
  },
  {
   "cell_type": "code",
   "execution_count": 9,
   "metadata": {},
   "outputs": [
    {
     "data": {
      "image/png": "[encoded data removed]",
      "text/plain": [
       "<Figure size 432x288 with 1 Axes>"
      ]
     },
     "metadata": {
      "needs_background": "light"
     },
     "output_type": "display_data"
    }
   ],
   "source": [
    "sf.plot(kind=\"scatter\", x=\"Hour\", y=\"Slowness\", alpha=0.5)\n",
    "plt.savefig('scatter.png')"
   ]
  },
  {
   "cell_type": "markdown",
   "metadata": {},
   "source": [
    "First, the correlation is indeed very strong; you can clearly see the upward trend and the points are not too dispersed."
   ]
  },
  {
   "cell_type": "code",
   "execution_count": 10,
   "metadata": {},
   "outputs": [
    {
     "data": {
      "text/plain": [
       "Index(['Hour', 'Immobilized_Bus', 'Broken_Truck', 'Vehicle_Excess',\n",
       "       'Accident_Victim', 'Running_Over', 'Fire_Vehicles',\n",
       "       'Freight_Occurrence', 'Dangerous_Freight', 'Electricity_Short', 'Fire',\n",
       "       'Flooding', 'Manifestations', 'Trolleybuses_Defect', 'Tree',\n",
       "       'Semaphore_off', 'Intermittent_Semaphore', 'Slowness'],\n",
       "      dtype='object')"
      ]
     },
     "execution_count": 10,
     "metadata": {},
     "output_type": "execute_result"
    }
   ],
   "source": [
    "sf.columns"
   ]
  },
  {
   "cell_type": "code",
   "execution_count": 11,
   "metadata": {},
   "outputs": [
    {
     "data": {
      "text/html": [
       "<div>\n",
       "<style scoped>\n",
       "    .dataframe tbody tr th:only-of-type {\n",
       "        vertical-align: middle;\n",
       "    }\n",
       "\n",
       "    .dataframe tbody tr th {\n",
       "        vertical-align: top;\n",
       "    }\n",
       "\n",
       "    .dataframe thead th {\n",
       "        text-align: right;\n",
       "    }\n",
       "</style>\n",
       "<table border=\"1\" class=\"dataframe\">\n",
       "  <thead>\n",
       "    <tr style=\"text-align: right;\">\n",
       "      <th></th>\n",
       "      <th>Hour</th>\n",
       "      <th>Immobilized_Bus</th>\n",
       "      <th>Broken_Truck</th>\n",
       "      <th>Vehicle_Excess</th>\n",
       "      <th>Accident_Victim</th>\n",
       "      <th>Running_Over</th>\n",
       "      <th>Fire_Vehicles</th>\n",
       "      <th>Freight_Occurrence</th>\n",
       "      <th>Dangerous_Freight</th>\n",
       "      <th>Electricity_Short</th>\n",
       "      <th>Fire</th>\n",
       "      <th>Flooding</th>\n",
       "      <th>Manifestations</th>\n",
       "      <th>Trolleybuses_Defect</th>\n",
       "      <th>Tree</th>\n",
       "      <th>Semaphore_off</th>\n",
       "      <th>Intermittent_Semaphore</th>\n",
       "      <th>Slowness</th>\n",
       "    </tr>\n",
       "  </thead>\n",
       "  <tbody>\n",
       "    <tr>\n",
       "      <th>0</th>\n",
       "      <td>1</td>\n",
       "      <td>0</td>\n",
       "      <td>0</td>\n",
       "      <td>0</td>\n",
       "      <td>0</td>\n",
       "      <td>0</td>\n",
       "      <td>0</td>\n",
       "      <td>0</td>\n",
       "      <td>0</td>\n",
       "      <td>0</td>\n",
       "      <td>0</td>\n",
       "      <td>0</td>\n",
       "      <td>0</td>\n",
       "      <td>0</td>\n",
       "      <td>0</td>\n",
       "      <td>0</td>\n",
       "      <td>0</td>\n",
       "      <td>4.1</td>\n",
       "    </tr>\n",
       "    <tr>\n",
       "      <th>1</th>\n",
       "      <td>2</td>\n",
       "      <td>0</td>\n",
       "      <td>0</td>\n",
       "      <td>0</td>\n",
       "      <td>0</td>\n",
       "      <td>0</td>\n",
       "      <td>0</td>\n",
       "      <td>0</td>\n",
       "      <td>0</td>\n",
       "      <td>0</td>\n",
       "      <td>0</td>\n",
       "      <td>0</td>\n",
       "      <td>0</td>\n",
       "      <td>0</td>\n",
       "      <td>0</td>\n",
       "      <td>0</td>\n",
       "      <td>0</td>\n",
       "      <td>6.6</td>\n",
       "    </tr>\n",
       "    <tr>\n",
       "      <th>2</th>\n",
       "      <td>3</td>\n",
       "      <td>0</td>\n",
       "      <td>0</td>\n",
       "      <td>0</td>\n",
       "      <td>0</td>\n",
       "      <td>0</td>\n",
       "      <td>0</td>\n",
       "      <td>0</td>\n",
       "      <td>0</td>\n",
       "      <td>0</td>\n",
       "      <td>0</td>\n",
       "      <td>0</td>\n",
       "      <td>0</td>\n",
       "      <td>0</td>\n",
       "      <td>0</td>\n",
       "      <td>0</td>\n",
       "      <td>0</td>\n",
       "      <td>8.7</td>\n",
       "    </tr>\n",
       "    <tr>\n",
       "      <th>3</th>\n",
       "      <td>4</td>\n",
       "      <td>0</td>\n",
       "      <td>0</td>\n",
       "      <td>0</td>\n",
       "      <td>0</td>\n",
       "      <td>0</td>\n",
       "      <td>0</td>\n",
       "      <td>0</td>\n",
       "      <td>0</td>\n",
       "      <td>0</td>\n",
       "      <td>0</td>\n",
       "      <td>0</td>\n",
       "      <td>0</td>\n",
       "      <td>0</td>\n",
       "      <td>0</td>\n",
       "      <td>0</td>\n",
       "      <td>0</td>\n",
       "      <td>9.2</td>\n",
       "    </tr>\n",
       "    <tr>\n",
       "      <th>4</th>\n",
       "      <td>5</td>\n",
       "      <td>0</td>\n",
       "      <td>0</td>\n",
       "      <td>0</td>\n",
       "      <td>0</td>\n",
       "      <td>0</td>\n",
       "      <td>0</td>\n",
       "      <td>0</td>\n",
       "      <td>0</td>\n",
       "      <td>0</td>\n",
       "      <td>0</td>\n",
       "      <td>0</td>\n",
       "      <td>0</td>\n",
       "      <td>0</td>\n",
       "      <td>0</td>\n",
       "      <td>0</td>\n",
       "      <td>0</td>\n",
       "      <td>11.1</td>\n",
       "    </tr>\n",
       "  </tbody>\n",
       "</table>\n",
       "</div>"
      ],
      "text/plain": [
       "   Hour  Immobilized_Bus  Broken_Truck  Vehicle_Excess  Accident_Victim  \\\n",
       "0     1                0             0               0                0   \n",
       "1     2                0             0               0                0   \n",
       "2     3                0             0               0                0   \n",
       "3     4                0             0               0                0   \n",
       "4     5                0             0               0                0   \n",
       "\n",
       "   Running_Over  Fire_Vehicles  Freight_Occurrence  Dangerous_Freight  \\\n",
       "0             0              0                   0                  0   \n",
       "1             0              0                   0                  0   \n",
       "2             0              0                   0                  0   \n",
       "3             0              0                   0                  0   \n",
       "4             0              0                   0                  0   \n",
       "\n",
       "   Electricity_Short  Fire  Flooding  Manifestations  Trolleybuses_Defect  \\\n",
       "0                  0     0         0               0                    0   \n",
       "1                  0     0         0               0                    0   \n",
       "2                  0     0         0               0                    0   \n",
       "3                  0     0         0               0                    0   \n",
       "4                  0     0         0               0                    0   \n",
       "\n",
       "   Tree  Semaphore_off  Intermittent_Semaphore  Slowness  \n",
       "0     0              0                       0       4.1  \n",
       "1     0              0                       0       6.6  \n",
       "2     0              0                       0       8.7  \n",
       "3     0              0                       0       9.2  \n",
       "4     0              0                       0      11.1  "
      ]
     },
     "execution_count": 11,
     "metadata": {},
     "output_type": "execute_result"
    }
   ],
   "source": [
    "sf = sf[['Hour', 'Immobilized_Bus', 'Broken_Truck', 'Vehicle_Excess',\n",
    "       'Accident_Victim', 'Running_Over', 'Fire_Vehicles',\n",
    "       'Freight_Occurrence', 'Dangerous_Freight', 'Electricity_Short', 'Fire',\n",
    "       'Flooding', 'Manifestations', 'Trolleybuses_Defect', 'Tree',\n",
    "       'Semaphore_off', 'Intermittent_Semaphore', 'Slowness']]\n",
    "sf.head()"
   ]
  },
  {
   "cell_type": "markdown",
   "metadata": {},
   "source": [
    "Create dummy variables for two categorical variables."
   ]
  },
  {
   "cell_type": "code",
   "execution_count": 12,
   "metadata": {},
   "outputs": [],
   "source": [
    "X = sf[['Hour', 'Immobilized_Bus', 'Broken_Truck', 'Vehicle_Excess',\n",
    "       'Accident_Victim', 'Running_Over', 'Fire_Vehicles',\n",
    "       'Freight_Occurrence', 'Dangerous_Freight', 'Electricity_Short', 'Fire',\n",
    "       'Flooding', 'Manifestations', 'Trolleybuses_Defect', 'Tree',\n",
    "       'Semaphore_off', 'Intermittent_Semaphore']]\n",
    "Y = sf['Slowness']"
   ]
  },
  {
   "cell_type": "code",
   "execution_count": 13,
   "metadata": {},
   "outputs": [
    {
     "data": {
      "text/html": [
       "<div>\n",
       "<style scoped>\n",
       "    .dataframe tbody tr th:only-of-type {\n",
       "        vertical-align: middle;\n",
       "    }\n",
       "\n",
       "    .dataframe tbody tr th {\n",
       "        vertical-align: top;\n",
       "    }\n",
       "\n",
       "    .dataframe thead th {\n",
       "        text-align: right;\n",
       "    }\n",
       "</style>\n",
       "<table border=\"1\" class=\"dataframe\">\n",
       "  <thead>\n",
       "    <tr style=\"text-align: right;\">\n",
       "      <th></th>\n",
       "      <th>Hour</th>\n",
       "      <th>Immobilized_Bus</th>\n",
       "      <th>Broken_Truck</th>\n",
       "      <th>Vehicle_Excess</th>\n",
       "      <th>Accident_Victim</th>\n",
       "      <th>Running_Over</th>\n",
       "      <th>Fire_Vehicles</th>\n",
       "      <th>Freight_Occurrence</th>\n",
       "      <th>Dangerous_Freight</th>\n",
       "      <th>Electricity_Short</th>\n",
       "      <th>Fire</th>\n",
       "      <th>Flooding</th>\n",
       "      <th>Manifestations</th>\n",
       "      <th>Trolleybuses_Defect</th>\n",
       "      <th>Tree</th>\n",
       "      <th>Semaphore_off</th>\n",
       "      <th>Intermittent_Semaphore</th>\n",
       "    </tr>\n",
       "  </thead>\n",
       "  <tbody>\n",
       "    <tr>\n",
       "      <th>0</th>\n",
       "      <td>1</td>\n",
       "      <td>0</td>\n",
       "      <td>0</td>\n",
       "      <td>0</td>\n",
       "      <td>0</td>\n",
       "      <td>0</td>\n",
       "      <td>0</td>\n",
       "      <td>0</td>\n",
       "      <td>0</td>\n",
       "      <td>0</td>\n",
       "      <td>0</td>\n",
       "      <td>0</td>\n",
       "      <td>0</td>\n",
       "      <td>0</td>\n",
       "      <td>0</td>\n",
       "      <td>0</td>\n",
       "      <td>0</td>\n",
       "    </tr>\n",
       "    <tr>\n",
       "      <th>1</th>\n",
       "      <td>2</td>\n",
       "      <td>0</td>\n",
       "      <td>0</td>\n",
       "      <td>0</td>\n",
       "      <td>0</td>\n",
       "      <td>0</td>\n",
       "      <td>0</td>\n",
       "      <td>0</td>\n",
       "      <td>0</td>\n",
       "      <td>0</td>\n",
       "      <td>0</td>\n",
       "      <td>0</td>\n",
       "      <td>0</td>\n",
       "      <td>0</td>\n",
       "      <td>0</td>\n",
       "      <td>0</td>\n",
       "      <td>0</td>\n",
       "    </tr>\n",
       "    <tr>\n",
       "      <th>2</th>\n",
       "      <td>3</td>\n",
       "      <td>0</td>\n",
       "      <td>0</td>\n",
       "      <td>0</td>\n",
       "      <td>0</td>\n",
       "      <td>0</td>\n",
       "      <td>0</td>\n",
       "      <td>0</td>\n",
       "      <td>0</td>\n",
       "      <td>0</td>\n",
       "      <td>0</td>\n",
       "      <td>0</td>\n",
       "      <td>0</td>\n",
       "      <td>0</td>\n",
       "      <td>0</td>\n",
       "      <td>0</td>\n",
       "      <td>0</td>\n",
       "    </tr>\n",
       "    <tr>\n",
       "      <th>3</th>\n",
       "      <td>4</td>\n",
       "      <td>0</td>\n",
       "      <td>0</td>\n",
       "      <td>0</td>\n",
       "      <td>0</td>\n",
       "      <td>0</td>\n",
       "      <td>0</td>\n",
       "      <td>0</td>\n",
       "      <td>0</td>\n",
       "      <td>0</td>\n",
       "      <td>0</td>\n",
       "      <td>0</td>\n",
       "      <td>0</td>\n",
       "      <td>0</td>\n",
       "      <td>0</td>\n",
       "      <td>0</td>\n",
       "      <td>0</td>\n",
       "    </tr>\n",
       "    <tr>\n",
       "      <th>4</th>\n",
       "      <td>5</td>\n",
       "      <td>0</td>\n",
       "      <td>0</td>\n",
       "      <td>0</td>\n",
       "      <td>0</td>\n",
       "      <td>0</td>\n",
       "      <td>0</td>\n",
       "      <td>0</td>\n",
       "      <td>0</td>\n",
       "      <td>0</td>\n",
       "      <td>0</td>\n",
       "      <td>0</td>\n",
       "      <td>0</td>\n",
       "      <td>0</td>\n",
       "      <td>0</td>\n",
       "      <td>0</td>\n",
       "      <td>0</td>\n",
       "    </tr>\n",
       "  </tbody>\n",
       "</table>\n",
       "</div>"
      ],
      "text/plain": [
       "   Hour  Immobilized_Bus  Broken_Truck  Vehicle_Excess  Accident_Victim  \\\n",
       "0     1                0             0               0                0   \n",
       "1     2                0             0               0                0   \n",
       "2     3                0             0               0                0   \n",
       "3     4                0             0               0                0   \n",
       "4     5                0             0               0                0   \n",
       "\n",
       "   Running_Over  Fire_Vehicles  Freight_Occurrence  Dangerous_Freight  \\\n",
       "0             0              0                   0                  0   \n",
       "1             0              0                   0                  0   \n",
       "2             0              0                   0                  0   \n",
       "3             0              0                   0                  0   \n",
       "4             0              0                   0                  0   \n",
       "\n",
       "   Electricity_Short  Fire  Flooding  Manifestations  Trolleybuses_Defect  \\\n",
       "0                  0     0         0               0                    0   \n",
       "1                  0     0         0               0                    0   \n",
       "2                  0     0         0               0                    0   \n",
       "3                  0     0         0               0                    0   \n",
       "4                  0     0         0               0                    0   \n",
       "\n",
       "   Tree  Semaphore_off  Intermittent_Semaphore  \n",
       "0     0              0                       0  \n",
       "1     0              0                       0  \n",
       "2     0              0                       0  \n",
       "3     0              0                       0  \n",
       "4     0              0                       0  "
      ]
     },
     "execution_count": 13,
     "metadata": {},
     "output_type": "execute_result"
    }
   ],
   "source": [
    "X.head()"
   ]
  },
  {
   "cell_type": "code",
   "execution_count": 14,
   "metadata": {},
   "outputs": [
    {
     "data": {
      "text/plain": [
       "(135, 17)"
      ]
     },
     "execution_count": 14,
     "metadata": {},
     "output_type": "execute_result"
    }
   ],
   "source": [
    "X.shape"
   ]
  },
  {
   "cell_type": "code",
   "execution_count": 15,
   "metadata": {},
   "outputs": [
    {
     "data": {
      "text/plain": [
       "(135,)"
      ]
     },
     "execution_count": 15,
     "metadata": {},
     "output_type": "execute_result"
    }
   ],
   "source": [
    "Y.shape"
   ]
  },
  {
   "cell_type": "markdown",
   "metadata": {},
   "source": [
    "Standardization of the data"
   ]
  },
  {
   "cell_type": "code",
   "execution_count": 16,
   "metadata": {},
   "outputs": [],
   "source": [
    "from sklearn.preprocessing import StandardScaler\n",
    "scaler = StandardScaler()\n",
    "X = scaler.fit_transform(X)"
   ]
  },
  {
   "cell_type": "code",
   "execution_count": 17,
   "metadata": {},
   "outputs": [],
   "source": [
    "from sklearn.model_selection import train_test_split\n",
    "\n",
    "X_train, X_test, y_train, y_test = train_test_split(X, Y, test_size=0.3, random_state=0)"
   ]
  },
  {
   "cell_type": "code",
   "execution_count": 18,
   "metadata": {},
   "outputs": [
    {
     "data": {
      "text/plain": [
       "LinearRegression(copy_X=True, fit_intercept=True, n_jobs=None, normalize=False)"
      ]
     },
     "execution_count": 18,
     "metadata": {},
     "output_type": "execute_result"
    }
   ],
   "source": [
    "from sklearn.linear_model import LinearRegression\n",
    "regressor = LinearRegression()\n",
    "regressor.fit(X_train, y_train)"
   ]
  },
  {
   "cell_type": "markdown",
   "metadata": {},
   "source": [
    "Done! We now have a working Linear Regression model."
   ]
  },
  {
   "cell_type": "code",
   "execution_count": 19,
   "metadata": {},
   "outputs": [
    {
     "name": "stdout",
     "output_type": "stream",
     "text": [
      "Liner Regression R squared: 0.4230\n"
     ]
    }
   ],
   "source": [
    "y_pred = regressor.predict(X_test)\n",
    "print('Liner Regression R squared: %.4f' % regressor.score(X_test, y_test))"
   ]
  },
  {
   "cell_type": "markdown",
   "metadata": {},
   "source": [
    "So, in our model, 42.30% of the variability in Y can be explained using X. It is not so exciting."
   ]
  },
  {
   "cell_type": "markdown",
   "metadata": {},
   "source": [
    "Calculate root-mean-square error (RMSE)"
   ]
  },
  {
   "cell_type": "code",
   "execution_count": 20,
   "metadata": {},
   "outputs": [
    {
     "name": "stdout",
     "output_type": "stream",
     "text": [
      "Liner Regression RMSE: 2.9915\n"
     ]
    }
   ],
   "source": [
    "import numpy as np\n",
    "from sklearn.metrics import mean_squared_error\n",
    "lin_mse = mean_squared_error(y_pred, y_test)\n",
    "lin_rmse = np.sqrt(lin_mse)\n",
    "print('Liner Regression RMSE: %.4f' % lin_rmse)"
   ]
  },
  {
   "cell_type": "markdown",
   "metadata": {},
   "source": [
    "Our model was able to predict the value of every record of behavior of the urban traffic in the test set within 2.9915% of the real slowness in traffic."
   ]
  },
  {
   "cell_type": "markdown",
   "metadata": {},
   "source": [
    "Calculate mean absolute error (MAE)"
   ]
  },
  {
   "cell_type": "code",
   "execution_count": 21,
   "metadata": {},
   "outputs": [
    {
     "name": "stdout",
     "output_type": "stream",
     "text": [
      "Liner Regression MAE: 2.3364\n"
     ]
    }
   ],
   "source": [
    "from sklearn.metrics import mean_absolute_error\n",
    "\n",
    "lin_mae = mean_absolute_error(y_pred, y_test)\n",
    "print('Liner Regression MAE: %.4f' % lin_mae)"
   ]
  },
  {
   "cell_type": "markdown",
   "metadata": {},
   "source": [
    "let’s try a more complex model to see whether results can be improved - the RandomForestRegressor"
   ]
  },
  {
   "cell_type": "code",
   "execution_count": 22,
   "metadata": {},
   "outputs": [
    {
     "data": {
      "text/plain": [
       "RandomForestRegressor(bootstrap=True, ccp_alpha=0.0, criterion='mse',\n",
       "                      max_depth=None, max_features='auto', max_leaf_nodes=None,\n",
       "                      max_samples=None, min_impurity_decrease=0.0,\n",
       "                      min_impurity_split=None, min_samples_leaf=1,\n",
       "                      min_samples_split=2, min_weight_fraction_leaf=0.0,\n",
       "                      n_estimators=100, n_jobs=None, oob_score=False,\n",
       "                      random_state=42, verbose=0, warm_start=False)"
      ]
     },
     "execution_count": 22,
     "metadata": {},
     "output_type": "execute_result"
    }
   ],
   "source": [
    "from sklearn.ensemble import RandomForestRegressor\n",
    "\n",
    "forest_reg = RandomForestRegressor(random_state=42)\n",
    "forest_reg.fit(X_train, y_train)"
   ]
  },
  {
   "cell_type": "code",
   "execution_count": 23,
   "metadata": {},
   "outputs": [
    {
     "name": "stdout",
     "output_type": "stream",
     "text": [
      "Random Forest R squared\": 0.4801\n"
     ]
    }
   ],
   "source": [
    "print('Random Forest R squared\": %.4f' % forest_reg.score(X_test, y_test))"
   ]
  },
  {
   "cell_type": "code",
   "execution_count": 24,
   "metadata": {},
   "outputs": [
    {
     "name": "stdout",
     "output_type": "stream",
     "text": [
      "Random Forest RMSE: 2.8398\n"
     ]
    }
   ],
   "source": [
    "y_pred = forest_reg.predict(X_test)\n",
    "forest_mse = mean_squared_error(y_pred, y_test)\n",
    "forest_rmse = np.sqrt(forest_mse)\n",
    "print('Random Forest RMSE: %.4f' % forest_rmse)"
   ]
  },
  {
   "cell_type": "markdown",
   "metadata": {},
   "source": [
    "Much better! Let's try one more."
   ]
  },
  {
   "cell_type": "code",
   "execution_count": 25,
   "metadata": {},
   "outputs": [
    {
     "data": {
      "text/plain": [
       "GradientBoostingRegressor(alpha=0.9, ccp_alpha=0.0, criterion='friedman_mse',\n",
       "                          init=None, learning_rate=0.1, loss='ls', max_depth=3,\n",
       "                          max_features=None, max_leaf_nodes=None,\n",
       "                          min_impurity_decrease=0.0, min_impurity_split=None,\n",
       "                          min_samples_leaf=1, min_samples_split=2,\n",
       "                          min_weight_fraction_leaf=0.0, n_estimators=100,\n",
       "                          n_iter_no_change=None, presort='deprecated',\n",
       "                          random_state=None, subsample=1.0, tol=0.0001,\n",
       "                          validation_fraction=0.1, verbose=0, warm_start=False)"
      ]
     },
     "execution_count": 25,
     "metadata": {},
     "output_type": "execute_result"
    }
   ],
   "source": [
    "from sklearn import ensemble\n",
    "from sklearn.ensemble import GradientBoostingRegressor\n",
    "model = ensemble.GradientBoostingRegressor()\n",
    "model.fit(X_train, y_train)"
   ]
  },
  {
   "cell_type": "code",
   "execution_count": 26,
   "metadata": {},
   "outputs": [
    {
     "name": "stdout",
     "output_type": "stream",
     "text": [
      "Gradient Boosting R squared\": 0.4551\n"
     ]
    }
   ],
   "source": [
    "print('Gradient Boosting R squared\": %.4f' % model.score(X_test, y_test))"
   ]
  },
  {
   "cell_type": "code",
   "execution_count": 27,
   "metadata": {},
   "outputs": [
    {
     "name": "stdout",
     "output_type": "stream",
     "text": [
      "Gradient Boosting RMSE: 2.9072\n"
     ]
    }
   ],
   "source": [
    "y_pred = model.predict(X_test)\n",
    "model_mse = mean_squared_error(y_pred, y_test)\n",
    "model_rmse = np.sqrt(model_mse)\n",
    "print('Gradient Boosting RMSE: %.4f' % model_rmse)"
   ]
  },
  {
   "cell_type": "markdown",
   "metadata": {},
   "source": [
    "I would consider the RandomForestRegressor as our final model, let's print out feature importance"
   ]
  },
  {
   "cell_type": "code",
   "execution_count": 28,
   "metadata": {},
   "outputs": [
    {
     "name": "stdout",
     "output_type": "stream",
     "text": [
      "Hour-76.77%\n",
      "Electricity_Short-5.82%\n",
      "Flooding-4.54%\n",
      "Broken_Truck-4.47%\n",
      "Immobilized_Bus-2.11%\n",
      "Accident_Victim-2.00%\n",
      "Semaphore_off-1.56%\n",
      "Trolleybuses_Defect-1.10%\n",
      "Running_Over-0.67%\n",
      "Manifestations-0.44%\n",
      "Tree-0.30%\n",
      "Vehicle_Excess-0.21%\n",
      "Intermittent_Semaphore-0.01%\n",
      "Dangerous_Freight-0.01%\n",
      "Fire_Vehicles-0.00%\n",
      "Freight_Occurrence-0.00%\n",
      "Fire-0.00%\n"
     ]
    }
   ],
   "source": [
    "feature_labels = np.array(['Hour', 'Immobilized_Bus', 'Broken_Truck', 'Vehicle_Excess',\n",
    "       'Accident_Victim', 'Running_Over', 'Fire_Vehicles',\n",
    "       'Freight_Occurrence', 'Dangerous_Freight', 'Electricity_Short', 'Fire',\n",
    "       'Flooding', 'Manifestations', 'Trolleybuses_Defect', 'Tree',\n",
    "       'Semaphore_off', 'Intermittent_Semaphore'])\n",
    "importance = forest_reg.feature_importances_\n",
    "feature_indexes_by_importance = importance.argsort()[::-1]\n",
    "for index in feature_indexes_by_importance:\n",
    "    print('{}-{:.2f}%'.format(feature_labels[index], (importance[index] *100.0)))"
   ]
  },
  {
   "cell_type": "code",
   "execution_count": null,
   "metadata": {},
   "outputs": [],
   "source": []
  }
 ],
 "metadata": {
  "kernelspec": {
   "display_name": "Python 3",
   "language": "python",
   "name": "python3"
  },
  "language_info": {
   "codemirror_mode": {
    "name": "ipython",
    "version": 3
   },
   "file_extension": ".py",
   "mimetype": "text/x-python",
   "name": "python",
   "nbconvert_exporter": "python",
   "pygments_lexer": "ipython3",
   "version": "3.7.6"
  }
 },
 "nbformat": 4,
 "nbformat_minor": 2
}
